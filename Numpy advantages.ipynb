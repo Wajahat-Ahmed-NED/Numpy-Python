{
 "cells": [
  {
   "cell_type": "code",
   "execution_count": 2,
   "id": "f62e0051",
   "metadata": {},
   "outputs": [],
   "source": [
    "# 1) Less Memory 2) Fast 3) Convinient"
   ]
  },
  {
   "cell_type": "code",
   "execution_count": 4,
   "id": "4376a220",
   "metadata": {},
   "outputs": [
    {
     "name": "stdout",
     "output_type": "stream",
     "text": [
      "28000\n",
      "4000\n"
     ]
    }
   ],
   "source": [
    "import numpy as np\n",
    "import time\n",
    "import sys\n",
    "\n",
    "\n",
    "l=range(1000)\n",
    "\n",
    "#takes less memory\n",
    "array=np.arange(1000)\n",
    "\n",
    "print(sys.getsizeof(5)*len(l))\n",
    "print(array.size*array.itemsize)"
   ]
  },
  {
   "cell_type": "code",
   "execution_count": 15,
   "id": "db578967",
   "metadata": {},
   "outputs": [],
   "source": [
    "size=100000"
   ]
  },
  {
   "cell_type": "code",
   "execution_count": 16,
   "id": "fb47d07c",
   "metadata": {},
   "outputs": [
    {
     "name": "stdout",
     "output_type": "stream",
     "text": [
      "Python list took  33.00952911376953\n",
      "Numpy array took 7.999658584594727\n"
     ]
    }
   ],
   "source": [
    "l1=range(size)\n",
    "l2=range(size)\n",
    "\n",
    "\n",
    "#executes very fast\n",
    "ar1=np.arange(size)\n",
    "ar2=np.arange(size)\n",
    "\n",
    "start=time.time()\n",
    "result=[(x+y) for x,y in zip(l1,l2)]\n",
    "print(\"Python list took \", (time.time()-start)*1000)\n",
    "\n",
    "start=time.time()\n",
    "result=ar1+ar2\n",
    "print(\"Numpy array took\",(time.time()-start)*1000)"
   ]
  },
  {
   "cell_type": "code",
   "execution_count": 18,
   "id": "8244695c",
   "metadata": {},
   "outputs": [
    {
     "data": {
      "text/plain": [
       "array([5, 7, 9])"
      ]
     },
     "execution_count": 18,
     "metadata": {},
     "output_type": "execute_result"
    }
   ],
   "source": [
    "a1=np.array([1,2,3])\n",
    "a2=np.array([4,5,6])\n",
    "a1+a2"
   ]
  },
  {
   "cell_type": "markdown",
   "id": "1002860d",
   "metadata": {},
   "source": [
    "a1-a2"
   ]
  },
  {
   "cell_type": "code",
   "execution_count": 19,
   "id": "193c74b8",
   "metadata": {},
   "outputs": [
    {
     "data": {
      "text/plain": [
       "array([0.25, 0.4 , 0.5 ])"
      ]
     },
     "execution_count": 19,
     "metadata": {},
     "output_type": "execute_result"
    }
   ],
   "source": [
    "a1/a2"
   ]
  },
  {
   "cell_type": "markdown",
   "id": "8592c4ed",
   "metadata": {},
   "source": []
  },
  {
   "cell_type": "markdown",
   "id": "57c623a3",
   "metadata": {},
   "source": []
  },
  {
   "cell_type": "code",
   "execution_count": 20,
   "id": "b5f35335",
   "metadata": {},
   "outputs": [
    {
     "data": {
      "text/plain": [
       "array([ 4, 10, 18])"
      ]
     },
     "execution_count": 20,
     "metadata": {},
     "output_type": "execute_result"
    }
   ],
   "source": [
    "a1*a2"
   ]
  },
  {
   "cell_type": "code",
   "execution_count": null,
   "id": "fc703f4f",
   "metadata": {},
   "outputs": [],
   "source": []
  }
 ],
 "metadata": {
  "kernelspec": {
   "display_name": "Python 3 (ipykernel)",
   "language": "python",
   "name": "python3"
  },
  "language_info": {
   "codemirror_mode": {
    "name": "ipython",
    "version": 3
   },
   "file_extension": ".py",
   "mimetype": "text/x-python",
   "name": "python",
   "nbconvert_exporter": "python",
   "pygments_lexer": "ipython3",
   "version": "3.9.12"
  }
 },
 "nbformat": 4,
 "nbformat_minor": 5
}
